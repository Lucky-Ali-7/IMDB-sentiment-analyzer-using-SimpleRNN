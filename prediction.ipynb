{
 "cells": [
  {
   "cell_type": "code",
   "execution_count": 2,
   "id": "2613ba62",
   "metadata": {},
   "outputs": [],
   "source": [
    "# step 1: import all the liabraries and load the model\n",
    "import numpy as np\n",
    "import tensorflow as tf\n",
    "from tensorflow.keras.datasets import imdb\n",
    "from tensorflow.keras.preprocessing import sequence\n",
    "from tensorflow.keras.models import load_model"
   ]
  },
  {
   "cell_type": "code",
   "execution_count": 3,
   "id": "4825aabb",
   "metadata": {},
   "outputs": [
    {
     "name": "stdout",
     "output_type": "stream",
     "text": [
      "Downloading data from https://storage.googleapis.com/tensorflow/tf-keras-datasets/imdb_word_index.json\n",
      "\u001b[1m1641221/1641221\u001b[0m \u001b[32m━━━━━━━━━━━━━━━━━━━━\u001b[0m\u001b[37m\u001b[0m \u001b[1m1s\u001b[0m 0us/step\n"
     ]
    }
   ],
   "source": [
    "# load the imdb dataset word index\n",
    "word_index=imdb.get_word_index()\n",
    "reverse_word_index={value:key for key, value in word_index.items()}"
   ]
  },
  {
   "cell_type": "code",
   "execution_count": 4,
   "id": "347742ff",
   "metadata": {},
   "outputs": [
    {
     "name": "stderr",
     "output_type": "stream",
     "text": [
      "WARNING:absl:Compiled the loaded model, but the compiled metrics have yet to be built. `model.compile_metrics` will be empty until you train or evaluate the model.\n"
     ]
    },
    {
     "data": {
      "text/html": [
       "<pre style=\"white-space:pre;overflow-x:auto;line-height:normal;font-family:Menlo,'DejaVu Sans Mono',consolas,'Courier New',monospace\"><span style=\"font-weight: bold\">Model: \"sequential_2\"</span>\n",
       "</pre>\n"
      ],
      "text/plain": [
       "\u001b[1mModel: \"sequential_2\"\u001b[0m\n"
      ]
     },
     "metadata": {},
     "output_type": "display_data"
    },
    {
     "data": {
      "text/html": [
       "<pre style=\"white-space:pre;overflow-x:auto;line-height:normal;font-family:Menlo,'DejaVu Sans Mono',consolas,'Courier New',monospace\">┏━━━━━━━━━━━━━━━━━━━━━━━━━━━━━━━━━┳━━━━━━━━━━━━━━━━━━━━━━━━┳━━━━━━━━━━━━━━━┓\n",
       "┃<span style=\"font-weight: bold\"> Layer (type)                    </span>┃<span style=\"font-weight: bold\"> Output Shape           </span>┃<span style=\"font-weight: bold\">       Param # </span>┃\n",
       "┡━━━━━━━━━━━━━━━━━━━━━━━━━━━━━━━━━╇━━━━━━━━━━━━━━━━━━━━━━━━╇━━━━━━━━━━━━━━━┩\n",
       "│ embedding_2 (<span style=\"color: #0087ff; text-decoration-color: #0087ff\">Embedding</span>)         │ (<span style=\"color: #00d7ff; text-decoration-color: #00d7ff\">None</span>, <span style=\"color: #00af00; text-decoration-color: #00af00\">500</span>, <span style=\"color: #00af00; text-decoration-color: #00af00\">128</span>)       │     <span style=\"color: #00af00; text-decoration-color: #00af00\">1,280,000</span> │\n",
       "├─────────────────────────────────┼────────────────────────┼───────────────┤\n",
       "│ simple_rnn_2 (<span style=\"color: #0087ff; text-decoration-color: #0087ff\">SimpleRNN</span>)        │ (<span style=\"color: #00d7ff; text-decoration-color: #00d7ff\">None</span>, <span style=\"color: #00af00; text-decoration-color: #00af00\">128</span>)            │        <span style=\"color: #00af00; text-decoration-color: #00af00\">32,896</span> │\n",
       "├─────────────────────────────────┼────────────────────────┼───────────────┤\n",
       "│ dense_2 (<span style=\"color: #0087ff; text-decoration-color: #0087ff\">Dense</span>)                 │ (<span style=\"color: #00d7ff; text-decoration-color: #00d7ff\">None</span>, <span style=\"color: #00af00; text-decoration-color: #00af00\">1</span>)              │           <span style=\"color: #00af00; text-decoration-color: #00af00\">129</span> │\n",
       "└─────────────────────────────────┴────────────────────────┴───────────────┘\n",
       "</pre>\n"
      ],
      "text/plain": [
       "┏━━━━━━━━━━━━━━━━━━━━━━━━━━━━━━━━━┳━━━━━━━━━━━━━━━━━━━━━━━━┳━━━━━━━━━━━━━━━┓\n",
       "┃\u001b[1m \u001b[0m\u001b[1mLayer (type)                   \u001b[0m\u001b[1m \u001b[0m┃\u001b[1m \u001b[0m\u001b[1mOutput Shape          \u001b[0m\u001b[1m \u001b[0m┃\u001b[1m \u001b[0m\u001b[1m      Param #\u001b[0m\u001b[1m \u001b[0m┃\n",
       "┡━━━━━━━━━━━━━━━━━━━━━━━━━━━━━━━━━╇━━━━━━━━━━━━━━━━━━━━━━━━╇━━━━━━━━━━━━━━━┩\n",
       "│ embedding_2 (\u001b[38;5;33mEmbedding\u001b[0m)         │ (\u001b[38;5;45mNone\u001b[0m, \u001b[38;5;34m500\u001b[0m, \u001b[38;5;34m128\u001b[0m)       │     \u001b[38;5;34m1,280,000\u001b[0m │\n",
       "├─────────────────────────────────┼────────────────────────┼───────────────┤\n",
       "│ simple_rnn_2 (\u001b[38;5;33mSimpleRNN\u001b[0m)        │ (\u001b[38;5;45mNone\u001b[0m, \u001b[38;5;34m128\u001b[0m)            │        \u001b[38;5;34m32,896\u001b[0m │\n",
       "├─────────────────────────────────┼────────────────────────┼───────────────┤\n",
       "│ dense_2 (\u001b[38;5;33mDense\u001b[0m)                 │ (\u001b[38;5;45mNone\u001b[0m, \u001b[38;5;34m1\u001b[0m)              │           \u001b[38;5;34m129\u001b[0m │\n",
       "└─────────────────────────────────┴────────────────────────┴───────────────┘\n"
      ]
     },
     "metadata": {},
     "output_type": "display_data"
    },
    {
     "data": {
      "text/html": [
       "<pre style=\"white-space:pre;overflow-x:auto;line-height:normal;font-family:Menlo,'DejaVu Sans Mono',consolas,'Courier New',monospace\"><span style=\"font-weight: bold\"> Total params: </span><span style=\"color: #00af00; text-decoration-color: #00af00\">1,313,027</span> (5.01 MB)\n",
       "</pre>\n"
      ],
      "text/plain": [
       "\u001b[1m Total params: \u001b[0m\u001b[38;5;34m1,313,027\u001b[0m (5.01 MB)\n"
      ]
     },
     "metadata": {},
     "output_type": "display_data"
    },
    {
     "data": {
      "text/html": [
       "<pre style=\"white-space:pre;overflow-x:auto;line-height:normal;font-family:Menlo,'DejaVu Sans Mono',consolas,'Courier New',monospace\"><span style=\"font-weight: bold\"> Trainable params: </span><span style=\"color: #00af00; text-decoration-color: #00af00\">1,313,025</span> (5.01 MB)\n",
       "</pre>\n"
      ],
      "text/plain": [
       "\u001b[1m Trainable params: \u001b[0m\u001b[38;5;34m1,313,025\u001b[0m (5.01 MB)\n"
      ]
     },
     "metadata": {},
     "output_type": "display_data"
    },
    {
     "data": {
      "text/html": [
       "<pre style=\"white-space:pre;overflow-x:auto;line-height:normal;font-family:Menlo,'DejaVu Sans Mono',consolas,'Courier New',monospace\"><span style=\"font-weight: bold\"> Non-trainable params: </span><span style=\"color: #00af00; text-decoration-color: #00af00\">0</span> (0.00 B)\n",
       "</pre>\n"
      ],
      "text/plain": [
       "\u001b[1m Non-trainable params: \u001b[0m\u001b[38;5;34m0\u001b[0m (0.00 B)\n"
      ]
     },
     "metadata": {},
     "output_type": "display_data"
    },
    {
     "data": {
      "text/html": [
       "<pre style=\"white-space:pre;overflow-x:auto;line-height:normal;font-family:Menlo,'DejaVu Sans Mono',consolas,'Courier New',monospace\"><span style=\"font-weight: bold\"> Optimizer params: </span><span style=\"color: #00af00; text-decoration-color: #00af00\">2</span> (12.00 B)\n",
       "</pre>\n"
      ],
      "text/plain": [
       "\u001b[1m Optimizer params: \u001b[0m\u001b[38;5;34m2\u001b[0m (12.00 B)\n"
      ]
     },
     "metadata": {},
     "output_type": "display_data"
    }
   ],
   "source": [
    "# Load the pre trained model with relu activation\n",
    "model=load_model('simple_rnn_imdb.h5')\n",
    "model.summary()"
   ]
  },
  {
   "cell_type": "code",
   "execution_count": 5,
   "id": "afe90648",
   "metadata": {},
   "outputs": [
    {
     "data": {
      "text/plain": [
       "[array([[ 0.4614742 , -0.5180924 ,  0.58331174, ..., -0.52018267,\n",
       "         -0.6155582 , -0.43835708],\n",
       "        [ 0.0610516 , -0.0168449 ,  0.04112143, ..., -0.07823677,\n",
       "         -0.04485224, -0.02820722],\n",
       "        [ 0.0778733 , -0.17404127,  0.16419694, ..., -0.11622979,\n",
       "         -0.14291286, -0.0821991 ],\n",
       "        ...,\n",
       "        [-0.0677983 ,  0.00214692,  0.05623667, ...,  0.03116602,\n",
       "          0.04361678, -0.0844964 ],\n",
       "        [ 0.15157132, -0.12542243, -0.04383153, ..., -0.17432745,\n",
       "         -0.05618064,  0.01325076],\n",
       "        [-0.06223335,  0.0882332 , -0.01508507, ...,  0.04658609,\n",
       "          0.1406613 , -0.02369487]], dtype=float32),\n",
       " array([[ 0.04310979,  0.16272731, -0.05792063, ..., -0.13303293,\n",
       "          0.0796045 , -0.14677513],\n",
       "        [-0.0254637 ,  0.12065195,  0.20388171, ...,  0.01877981,\n",
       "          0.08221295, -0.08994358],\n",
       "        [-0.10044345,  0.05662482, -0.10523731, ..., -0.12802467,\n",
       "          0.05339066, -0.07299581],\n",
       "        ...,\n",
       "        [ 0.02817413,  0.0290287 ,  0.02389986, ...,  0.02940571,\n",
       "         -0.12238327,  0.12612681],\n",
       "        [ 0.04390572, -0.06445669,  0.15265907, ...,  0.12462333,\n",
       "         -0.00336732, -0.07384788],\n",
       "        [-0.11040609, -0.02851426,  0.023196  , ...,  0.02884308,\n",
       "          0.01612827, -0.03112778]], dtype=float32),\n",
       " array([[ 0.00846493, -0.09907243,  0.03296669, ...,  0.08452263,\n",
       "         -0.07792205, -0.10581731],\n",
       "        [-0.1002043 ,  0.06425808,  0.03595525, ..., -0.00296885,\n",
       "         -0.04748358, -0.01152138],\n",
       "        [-0.02595709,  0.09044685,  0.11703151, ..., -0.13125741,\n",
       "          0.00699997, -0.06537759],\n",
       "        ...,\n",
       "        [ 0.06203845,  0.16320312,  0.03479859, ..., -0.02875543,\n",
       "          0.02838717, -0.01645452],\n",
       "        [ 0.04449648, -0.146376  , -0.08350999, ...,  0.02227223,\n",
       "          0.02760499,  0.06383626],\n",
       "        [ 0.04403187,  0.08481861,  0.12865011, ..., -0.1451636 ,\n",
       "         -0.20130806, -0.06683935]], dtype=float32),\n",
       " array([ 0.00020569, -0.00350069, -0.016518  , -0.04412261,  0.01733779,\n",
       "         0.04044221, -0.0206763 , -0.04085548,  0.03441279,  0.00304155,\n",
       "        -0.01211402, -0.00167073, -0.00573446,  0.02381212,  0.01051618,\n",
       "        -0.02265044, -0.01350934,  0.01553272,  0.00730963,  0.03009491,\n",
       "         0.01065215, -0.02739399, -0.03184074, -0.02766673, -0.00466389,\n",
       "        -0.00995312, -0.01574279, -0.01441671,  0.01025583,  0.0441764 ,\n",
       "        -0.01575936, -0.00616914, -0.02961036, -0.04431114, -0.02763148,\n",
       "         0.02355279, -0.04008732,  0.0113134 ,  0.03413236,  0.0254471 ,\n",
       "        -0.0360633 , -0.00375263,  0.01051836, -0.03043002, -0.00515504,\n",
       "         0.02055893, -0.03012007, -0.00819417, -0.0003542 , -0.02357888,\n",
       "         0.04073434, -0.01021718, -0.00189897, -0.01699736, -0.00644876,\n",
       "        -0.0265512 , -0.0241588 , -0.00363198, -0.02156832, -0.01514926,\n",
       "         0.00455219, -0.01546329, -0.03713423, -0.00552946,  0.05217971,\n",
       "        -0.00868507, -0.03080705, -0.03579878, -0.03438191, -0.0350442 ,\n",
       "         0.03776543, -0.00234618, -0.00772801, -0.0479585 , -0.02403601,\n",
       "        -0.01584953, -0.0108063 ,  0.02410908, -0.03667578,  0.00032835,\n",
       "        -0.02430821, -0.00553444, -0.01585368, -0.01682879, -0.03150493,\n",
       "        -0.02618375,  0.07391381, -0.03434205,  0.05956713, -0.03134965,\n",
       "        -0.00020497,  0.00670146,  0.0035311 , -0.01919694, -0.01190507,\n",
       "         0.01453505, -0.02067012,  0.03497978, -0.0189154 , -0.00858309,\n",
       "         0.02599309, -0.00808486, -0.01030071, -0.02371981, -0.03684792,\n",
       "        -0.00292682, -0.04373513,  0.00909761, -0.03079512, -0.03150686,\n",
       "        -0.03746365,  0.01701826, -0.02892924, -0.04076508,  0.01061328,\n",
       "        -0.01990211, -0.00778709, -0.04233918,  0.00476983, -0.01773349,\n",
       "         0.00121381,  0.00344025, -0.01765045, -0.00643443, -0.03193731,\n",
       "        -0.01027536,  0.03950276, -0.03608603], dtype=float32),\n",
       " array([[-0.5578805 ],\n",
       "        [ 0.11393821],\n",
       "        [ 0.05113527],\n",
       "        [ 0.0804459 ],\n",
       "        [ 0.13667972],\n",
       "        [-0.18349947],\n",
       "        [ 0.02062832],\n",
       "        [ 0.05923141],\n",
       "        [-0.03942453],\n",
       "        [-0.18410374],\n",
       "        [-0.00780682],\n",
       "        [ 0.07709023],\n",
       "        [-1.0989202 ],\n",
       "        [ 0.153816  ],\n",
       "        [ 0.07819029],\n",
       "        [ 0.14555582],\n",
       "        [ 0.11802024],\n",
       "        [-0.1448384 ],\n",
       "        [ 0.28954208],\n",
       "        [-0.29222968],\n",
       "        [-0.44505093],\n",
       "        [-0.06559537],\n",
       "        [ 0.55348116],\n",
       "        [ 0.24298878],\n",
       "        [ 0.10315164],\n",
       "        [ 0.03540986],\n",
       "        [ 0.08493432],\n",
       "        [ 0.589241  ],\n",
       "        [-0.05979461],\n",
       "        [ 0.05298291],\n",
       "        [-0.01092253],\n",
       "        [ 0.7187615 ],\n",
       "        [ 0.09124088],\n",
       "        [ 0.01338465],\n",
       "        [-0.03975611],\n",
       "        [ 0.06968111],\n",
       "        [ 0.1509099 ],\n",
       "        [-0.26480457],\n",
       "        [-0.16539842],\n",
       "        [-0.08850777],\n",
       "        [ 0.04292747],\n",
       "        [-0.20999518],\n",
       "        [-0.20274913],\n",
       "        [-0.04841092],\n",
       "        [ 0.12093537],\n",
       "        [ 0.07267043],\n",
       "        [-0.0072631 ],\n",
       "        [ 0.05642857],\n",
       "        [ 0.01791584],\n",
       "        [ 0.08456542],\n",
       "        [ 0.19147159],\n",
       "        [ 0.11167401],\n",
       "        [-0.02991454],\n",
       "        [ 0.00938332],\n",
       "        [ 0.18981527],\n",
       "        [ 0.11562045],\n",
       "        [ 0.17975433],\n",
       "        [ 0.28604934],\n",
       "        [ 0.10729652],\n",
       "        [-0.04866198],\n",
       "        [-0.6076134 ],\n",
       "        [-0.11421208],\n",
       "        [ 0.15295252],\n",
       "        [ 0.09222091],\n",
       "        [-0.24820542],\n",
       "        [ 0.15641794],\n",
       "        [ 0.00237077],\n",
       "        [ 0.00834794],\n",
       "        [-0.12951575],\n",
       "        [ 0.15871795],\n",
       "        [-0.265236  ],\n",
       "        [ 0.12961303],\n",
       "        [ 0.26688468],\n",
       "        [ 0.14579982],\n",
       "        [ 0.0853828 ],\n",
       "        [-0.36177647],\n",
       "        [ 0.17355469],\n",
       "        [-0.2041547 ],\n",
       "        [ 0.09865889],\n",
       "        [-0.11824248],\n",
       "        [-0.02832764],\n",
       "        [-0.28211766],\n",
       "        [-0.22385402],\n",
       "        [ 0.05121653],\n",
       "        [-0.24149571],\n",
       "        [-0.14295015],\n",
       "        [ 0.49211314],\n",
       "        [ 0.19437669],\n",
       "        [ 0.08959685],\n",
       "        [ 0.03638089],\n",
       "        [ 0.0831869 ],\n",
       "        [ 0.0163543 ],\n",
       "        [-0.0706171 ],\n",
       "        [ 0.32418266],\n",
       "        [ 0.13696608],\n",
       "        [ 0.11462321],\n",
       "        [ 0.04230431],\n",
       "        [-0.24812312],\n",
       "        [-0.06044649],\n",
       "        [-0.05112017],\n",
       "        [-0.20149453],\n",
       "        [ 0.15193078],\n",
       "        [-0.1151104 ],\n",
       "        [-0.0322502 ],\n",
       "        [ 0.11391854],\n",
       "        [-0.09769046],\n",
       "        [ 0.04311501],\n",
       "        [ 0.00816544],\n",
       "        [ 0.02657716],\n",
       "        [ 0.1848228 ],\n",
       "        [ 0.22199343],\n",
       "        [-0.01169727],\n",
       "        [-0.15516312],\n",
       "        [ 0.18900774],\n",
       "        [ 0.11008456],\n",
       "        [ 0.17080198],\n",
       "        [ 0.11242572],\n",
       "        [-0.03378994],\n",
       "        [-0.06057946],\n",
       "        [ 0.06905084],\n",
       "        [-0.24311647],\n",
       "        [-0.09548517],\n",
       "        [ 0.17349356],\n",
       "        [-0.48513192],\n",
       "        [ 0.17966206],\n",
       "        [ 0.11398875],\n",
       "        [-0.16362575],\n",
       "        [ 0.01449648]], dtype=float32),\n",
       " array([0.43172616], dtype=float32)]"
      ]
     },
     "execution_count": 5,
     "metadata": {},
     "output_type": "execute_result"
    }
   ],
   "source": [
    "model.get_weights()"
   ]
  },
  {
   "cell_type": "code",
   "execution_count": 6,
   "id": "e4b080e6",
   "metadata": {},
   "outputs": [],
   "source": [
    "# step 2: Helper function\n",
    "# function to decode review\n",
    "def decode_review(encoded_review):\n",
    "    return ' '.join([reverse_word_index.get(i-3,'?') for i in encoded_review])\n",
    "\n",
    "# function to preprocess user input\n",
    "def preprocess_text(text):\n",
    "    words=text.lower().split()\n",
    "    encoded_review=[word_index.get(word,2) + 3 for word in words]\n",
    "    padded_review=sequence.pad_sequences([encoded_review],maxlen=500)\n",
    "    return padded_review"
   ]
  },
  {
   "cell_type": "code",
   "execution_count": 7,
   "id": "df34575f",
   "metadata": {},
   "outputs": [],
   "source": [
    "## Prediction Function\n",
    "\n",
    "def predict_sentiment(review):\n",
    "    preprocessed_input=preprocess_text(review)\n",
    "    \n",
    "    prediction=model.predict(preprocessed_input)\n",
    "    \n",
    "    sentiment ='positive' if prediction[0][0] > 0.5 else 'negetive'\n",
    "    \n",
    "    return sentiment,prediction[0][0]"
   ]
  },
  {
   "cell_type": "code",
   "execution_count": 8,
   "id": "1e341aef",
   "metadata": {},
   "outputs": [
    {
     "name": "stdout",
     "output_type": "stream",
     "text": [
      "\u001b[1m1/1\u001b[0m \u001b[32m━━━━━━━━━━━━━━━━━━━━\u001b[0m\u001b[37m\u001b[0m \u001b[1m0s\u001b[0m 375ms/step\n",
      "Review: This movie was fantastic the acting was great and plot was thrilling\n",
      "Sentiment: positive\n",
      "prediction score: 0.7245884537696838\n"
     ]
    }
   ],
   "source": [
    "# step 4: User input and prediction\n",
    "# example review for prediction\n",
    "example_review = 'This movie was fantastic the acting was great and plot was thrilling'\n",
    "\n",
    "sentiment,score=predict_sentiment(example_review)\n",
    "\n",
    "print(f\"Review: {example_review}\")\n",
    "print(f'Sentiment: {sentiment}')\n",
    "print(f'prediction score: {score}')"
   ]
  },
  {
   "cell_type": "code",
   "execution_count": null,
   "id": "13d844f0",
   "metadata": {},
   "outputs": [],
   "source": []
  }
 ],
 "metadata": {
  "kernelspec": {
   "display_name": ".venv",
   "language": "python",
   "name": "python3"
  },
  "language_info": {
   "codemirror_mode": {
    "name": "ipython",
    "version": 3
   },
   "file_extension": ".py",
   "mimetype": "text/x-python",
   "name": "python",
   "nbconvert_exporter": "python",
   "pygments_lexer": "ipython3",
   "version": "3.12.4"
  }
 },
 "nbformat": 4,
 "nbformat_minor": 5
}
